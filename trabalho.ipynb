{
 "cells": [
  {
   "cell_type": "markdown",
   "metadata": {},
   "source": [
    "# Computação Bioinspirada 2024-02\n",
    "\n",
    "Este repositório contém o trabalho da Tópicos Avançados em Ciências de Computação II\n",
    "(Computação Bioinspirada, no semestre 2024-02).\n",
    "\n",
    "O trabalho consiste em trabalhar com um conjunto de dados multirrótulo onde cada instância representa uma sequência de\n",
    "proteína. Cada rótulo (classe) corresponde a uma localização subcelular e as proteínas podem estar presentes\n",
    "simultaneamente em dois ou mais compartimentos celulares. O conjunto de dados possui seis localizações\n",
    "subcelulares: Proteínas do Capsídeo Viral, Proteínas da Membrana Celular do Hospedeiro, Proteínas do Retículo\n",
    "Endoplasmático do Hospedeiro, Proteínas do Citoplasma do Hospedeiro, Proteínas do Núcleo do Hospedeiro e\n",
    "Proteínas Secretadas. As colunas representam os códigos de Gene Ontology (relacionados à função da proteína),\n",
    "com valores que indicam a frequência do código para cada proteína. As seis últimas colunas indicam a presença\n",
    "(1) ou ausência (0) da proteína em cada uma das localizações subcelulares mencionadas.\n",
    "\n",
    "Desenvolvemos um modelo de classificação multirrótulo usando **redes neurais artificiais**.\n",
    "\n",
    "Existem dois conjuntos de dados: um de vírus e um de plantas.\n"
   ]
  },
  {
   "cell_type": "markdown",
   "metadata": {},
   "source": [
    "### Imports "
   ]
  },
  {
   "cell_type": "code",
   "execution_count": 1,
   "metadata": {},
   "outputs": [
    {
     "name": "stderr",
     "output_type": "stream",
     "text": [
      "2024-12-04 09:19:29.241945: I tensorflow/tsl/cuda/cudart_stub.cc:28] Could not find cuda drivers on your machine, GPU will not be used.\n",
      "2024-12-04 09:19:30.174568: I tensorflow/tsl/cuda/cudart_stub.cc:28] Could not find cuda drivers on your machine, GPU will not be used.\n",
      "2024-12-04 09:19:30.183196: I tensorflow/core/platform/cpu_feature_guard.cc:182] This TensorFlow binary is optimized to use available CPU instructions in performance-critical operations.\n",
      "To enable the following instructions: AVX2 FMA, in other operations, rebuild TensorFlow with the appropriate compiler flags.\n",
      "2024-12-04 09:19:33.354943: W tensorflow/compiler/tf2tensorrt/utils/py_utils.cc:38] TF-TRT Warning: Could not find TensorRT\n"
     ]
    }
   ],
   "source": [
    "import pandas as pd\n",
    "from sklearn.model_selection import train_test_split\n",
    "from sklearn.preprocessing import StandardScaler\n",
    "from tensorflow.keras.models import Sequential\n",
    "from tensorflow.keras.layers import Dense\n",
    "from tensorflow.keras.utils import to_categorical\n",
    "import tensorflow as tf"
   ]
  },
  {
   "cell_type": "code",
   "execution_count": 2,
   "metadata": {},
   "outputs": [],
   "source": [
    "random_seed = 42\n",
    "tf.random.set_seed(random_seed)\n",
    "tf.keras.utils.set_random_seed(random_seed)"
   ]
  },
  {
   "cell_type": "markdown",
   "metadata": {},
   "source": [
    "### Lendo os dados dos datasets e separando em treino e teste"
   ]
  },
  {
   "cell_type": "code",
   "execution_count": 3,
   "metadata": {},
   "outputs": [],
   "source": [
    "plants_dataset = pd.read_csv('./Plants_Dataset_Term_Frequency.tsv', sep='\\t', skiprows=1).iloc[:, 1:]\n",
    "virus_dataset =  pd.read_csv('./Virus_Dataset_Term_Frequency.tsv', sep='\\t', skiprows=1).iloc[:, 1:]"
   ]
  },
  {
   "cell_type": "code",
   "execution_count": null,
   "metadata": {},
   "outputs": [
    {
     "ename": "TypeError",
     "evalue": "len() takes exactly one argument (2 given)",
     "output_type": "error",
     "traceback": [
      "\u001b[0;31m---------------------------------------------------------------------------\u001b[0m",
      "\u001b[0;31mTypeError\u001b[0m                                 Traceback (most recent call last)",
      "Cell \u001b[0;32mIn[4], line 15\u001b[0m\n\u001b[1;32m     13\u001b[0m X_virus \u001b[38;5;241m=\u001b[39m virus_dataset\u001b[38;5;241m.\u001b[39miloc[:, :\u001b[38;5;241m-\u001b[39mNUM_ROTULOS_VIRUS]\u001b[38;5;241m.\u001b[39mvalues\n\u001b[1;32m     14\u001b[0m y_virus \u001b[38;5;241m=\u001b[39m virus_dataset\u001b[38;5;241m.\u001b[39miloc[:, \u001b[38;5;241m-\u001b[39mNUM_ROTULOS_VIRUS:]\u001b[38;5;241m.\u001b[39mvalues\n\u001b[0;32m---> 15\u001b[0m \u001b[38;5;28mprint\u001b[39m(\u001b[38;5;28;43mlen\u001b[39;49m\u001b[43m(\u001b[49m\u001b[43mX_plants\u001b[49m\u001b[43m[\u001b[49m\u001b[38;5;241;43m0\u001b[39;49m\u001b[43m]\u001b[49m\u001b[43m,\u001b[49m\u001b[43m \u001b[49m\u001b[38;5;28;43mlen\u001b[39;49m\u001b[43m(\u001b[49m\u001b[43mX_virus\u001b[49m\u001b[43m[\u001b[49m\u001b[38;5;241;43m0\u001b[39;49m\u001b[43m]\u001b[49m\u001b[43m)\u001b[49m\u001b[43m)\u001b[49m)\n\u001b[1;32m     17\u001b[0m \u001b[38;5;66;03m# Dividir dados em treino e teste para o dataset de plantas\u001b[39;00m\n\u001b[1;32m     18\u001b[0m X_train_plants, X_test_plants, y_train_plants, y_test_plants \u001b[38;5;241m=\u001b[39m train_test_split(\n\u001b[1;32m     19\u001b[0m     X_plants, y_plants, test_size\u001b[38;5;241m=\u001b[39mTAMANHO_TEST, random_state\u001b[38;5;241m=\u001b[39mrandom_seed\n\u001b[1;32m     20\u001b[0m )\n",
      "\u001b[0;31mTypeError\u001b[0m: len() takes exactly one argument (2 given)"
     ]
    }
   ],
   "source": [
    "# Os dois datasets possuem 6 rótulos\n",
    "NUM_ROTULOS_PLANTAS = 12\n",
    "NUM_ROTULOS_VIRUS = 6\n",
    "TAMANHO_TEST = 0.3\n",
    "\n",
    "\n",
    "# Separar as features e os rótulos para o dataset de plantas\n",
    "X_plants = plants_dataset.iloc[:, :-NUM_ROTULOS_PLANTAS].values  # Todas as colunas, exceto as últimas 6 e a primeira\n",
    "y_plants = plants_dataset.iloc[:, -NUM_ROTULOS_PLANTAS:].values  # As últimas 6 colunas (rótulos)\n",
    "\n",
    "\n",
    "# Separar as features e os rótulos para o dataset de vírus\n",
    "X_virus = virus_dataset.iloc[:, :-NUM_ROTULOS_VIRUS].values\n",
    "y_virus = virus_dataset.iloc[:, -NUM_ROTULOS_VIRUS:].values\n",
    "print(len(X_plants[0]), len(X_virus[0]))\n",
    "\n",
    "# Dividir dados em treino e teste para o dataset de plantas\n",
    "X_train_plants, X_test_plants, y_train_plants, y_test_plants = train_test_split(\n",
    "    X_plants, y_plants, test_size=TAMANHO_TEST, random_state=random_seed\n",
    ")\n",
    "\n",
    "# Dividir dados em treino e teste para o dataset de vírus\n",
    "X_train_virus, X_test_virus, y_train_virus, y_test_virus = train_test_split(\n",
    "    X_virus, y_virus, test_size=TAMANHO_TEST, random_state=random_seed\n",
    ")"
   ]
  },
  {
   "cell_type": "code",
   "execution_count": null,
   "metadata": {},
   "outputs": [],
   "source": [
    "\n",
    "# Padronizar os dados\n",
    "scaler_plants = StandardScaler()\n",
    "X_train_plants = scaler_plants.fit_transform(X_train_plants)\n",
    "X_test_plants = scaler_plants.transform(X_test_plants)\n",
    "\n",
    "scaler_virus = StandardScaler()\n",
    "X_train_virus = scaler_virus.fit_transform(X_train_virus)\n",
    "X_test_virus = scaler_virus.transform(X_test_virus)"
   ]
  },
  {
   "cell_type": "code",
   "execution_count": null,
   "metadata": {},
   "outputs": [],
   "source": [
    "# Arquitetura da rede neural\n",
    "def create_model(input_shape, output_shape):\n",
    "    model = Sequential([\n",
    "        Dense(64, activation='relu', input_shape=(input_shape,)),\n",
    "        Dense(32, activation='relu'),\n",
    "        Dense(output_shape, activation='sigmoid')  # Saída com sigmoid para classificação binária\n",
    "    ])\n",
    "    model.compile(optimizer='adam', loss='binary_crossentropy', metrics=['accuracy'])\n",
    "    return model"
   ]
  },
  {
   "cell_type": "code",
   "execution_count": null,
   "metadata": {},
   "outputs": [
    {
     "name": "stderr",
     "output_type": "stream",
     "text": [
      "/home/teo/anaconda3/lib/python3.11/site-packages/keras/src/layers/core/dense.py:87: UserWarning: Do not pass an `input_shape`/`input_dim` argument to a layer. When using Sequential models, prefer using an `Input(shape)` object as the first layer in the model instead.\n",
      "  super().__init__(activity_regularizer=activity_regularizer, **kwargs)\n",
      "2024-11-29 16:32:43.253567: E external/local_xla/xla/stream_executor/cuda/cuda_driver.cc:152] failed call to cuInit: INTERNAL: CUDA error: Failed call to cuInit: UNKNOWN ERROR (303)\n"
     ]
    },
    {
     "name": "stdout",
     "output_type": "stream",
     "text": [
      "Epoch 1/50\n",
      "\u001b[1m20/20\u001b[0m \u001b[32m━━━━━━━━━━━━━━━━━━━━\u001b[0m\u001b[37m\u001b[0m \u001b[1m3s\u001b[0m 32ms/step - accuracy: 0.1501 - loss: 0.7331 - val_accuracy: 0.2968 - val_loss: 0.5993\n",
      "Epoch 2/50\n",
      "\u001b[1m20/20\u001b[0m \u001b[32m━━━━━━━━━━━━━━━━━━━━\u001b[0m\u001b[37m\u001b[0m \u001b[1m0s\u001b[0m 14ms/step - accuracy: 0.2929 - loss: 0.3144 - val_accuracy: 0.3097 - val_loss: 0.4181\n",
      "Epoch 3/50\n",
      "\u001b[1m20/20\u001b[0m \u001b[32m━━━━━━━━━━━━━━━━━━━━\u001b[0m\u001b[37m\u001b[0m \u001b[1m0s\u001b[0m 10ms/step - accuracy: 0.3943 - loss: 0.1703 - val_accuracy: 0.2774 - val_loss: 0.3404\n",
      "Epoch 4/50\n",
      "\u001b[1m20/20\u001b[0m \u001b[32m━━━━━━━━━━━━━━━━━━━━\u001b[0m\u001b[37m\u001b[0m \u001b[1m0s\u001b[0m 10ms/step - accuracy: 0.4248 - loss: 0.1124 - val_accuracy: 0.2774 - val_loss: 0.3027\n",
      "Epoch 5/50\n",
      "\u001b[1m20/20\u001b[0m \u001b[32m━━━━━━━━━━━━━━━━━━━━\u001b[0m\u001b[37m\u001b[0m \u001b[1m0s\u001b[0m 10ms/step - accuracy: 0.4499 - loss: 0.0835 - val_accuracy: 0.2839 - val_loss: 0.2783\n",
      "Epoch 6/50\n",
      "\u001b[1m20/20\u001b[0m \u001b[32m━━━━━━━━━━━━━━━━━━━━\u001b[0m\u001b[37m\u001b[0m \u001b[1m0s\u001b[0m 10ms/step - accuracy: 0.4670 - loss: 0.0636 - val_accuracy: 0.2903 - val_loss: 0.2605\n",
      "Epoch 7/50\n",
      "\u001b[1m20/20\u001b[0m \u001b[32m━━━━━━━━━━━━━━━━━━━━\u001b[0m\u001b[37m\u001b[0m \u001b[1m0s\u001b[0m 11ms/step - accuracy: 0.4736 - loss: 0.0504 - val_accuracy: 0.2968 - val_loss: 0.2483\n",
      "Epoch 8/50\n",
      "\u001b[1m20/20\u001b[0m \u001b[32m━━━━━━━━━━━━━━━━━━━━\u001b[0m\u001b[37m\u001b[0m \u001b[1m0s\u001b[0m 11ms/step - accuracy: 0.4770 - loss: 0.0406 - val_accuracy: 0.3097 - val_loss: 0.2400\n",
      "Epoch 9/50\n",
      "\u001b[1m20/20\u001b[0m \u001b[32m━━━━━━━━━━━━━━━━━━━━\u001b[0m\u001b[37m\u001b[0m \u001b[1m0s\u001b[0m 11ms/step - accuracy: 0.4837 - loss: 0.0335 - val_accuracy: 0.3226 - val_loss: 0.2334\n",
      "Epoch 10/50\n",
      "\u001b[1m20/20\u001b[0m \u001b[32m━━━━━━━━━━━━━━━━━━━━\u001b[0m\u001b[37m\u001b[0m \u001b[1m0s\u001b[0m 11ms/step - accuracy: 0.4877 - loss: 0.0278 - val_accuracy: 0.3290 - val_loss: 0.2289\n",
      "Epoch 11/50\n",
      "\u001b[1m20/20\u001b[0m \u001b[32m━━━━━━━━━━━━━━━━━━━━\u001b[0m\u001b[37m\u001b[0m \u001b[1m0s\u001b[0m 11ms/step - accuracy: 0.4879 - loss: 0.0235 - val_accuracy: 0.3226 - val_loss: 0.2255\n",
      "Epoch 12/50\n",
      "\u001b[1m20/20\u001b[0m \u001b[32m━━━━━━━━━━━━━━━━━━━━\u001b[0m\u001b[37m\u001b[0m \u001b[1m0s\u001b[0m 10ms/step - accuracy: 0.4927 - loss: 0.0201 - val_accuracy: 0.3290 - val_loss: 0.2226\n",
      "Epoch 13/50\n",
      "\u001b[1m20/20\u001b[0m \u001b[32m━━━━━━━━━━━━━━━━━━━━\u001b[0m\u001b[37m\u001b[0m \u001b[1m0s\u001b[0m 11ms/step - accuracy: 0.4942 - loss: 0.0174 - val_accuracy: 0.3290 - val_loss: 0.2191\n",
      "Epoch 14/50\n",
      "\u001b[1m20/20\u001b[0m \u001b[32m━━━━━━━━━━━━━━━━━━━━\u001b[0m\u001b[37m\u001b[0m \u001b[1m0s\u001b[0m 12ms/step - accuracy: 0.4938 - loss: 0.0154 - val_accuracy: 0.3290 - val_loss: 0.2162\n",
      "Epoch 15/50\n",
      "\u001b[1m20/20\u001b[0m \u001b[32m━━━━━━━━━━━━━━━━━━━━\u001b[0m\u001b[37m\u001b[0m \u001b[1m0s\u001b[0m 12ms/step - accuracy: 0.4947 - loss: 0.0136 - val_accuracy: 0.3419 - val_loss: 0.2132\n",
      "Epoch 16/50\n",
      "\u001b[1m20/20\u001b[0m \u001b[32m━━━━━━━━━━━━━━━━━━━━\u001b[0m\u001b[37m\u001b[0m \u001b[1m0s\u001b[0m 13ms/step - accuracy: 0.4965 - loss: 0.0122 - val_accuracy: 0.3419 - val_loss: 0.2106\n",
      "Epoch 17/50\n",
      "\u001b[1m20/20\u001b[0m \u001b[32m━━━━━━━━━━━━━━━━━━━━\u001b[0m\u001b[37m\u001b[0m \u001b[1m0s\u001b[0m 12ms/step - accuracy: 0.4953 - loss: 0.0110 - val_accuracy: 0.3484 - val_loss: 0.2084\n",
      "Epoch 18/50\n",
      "\u001b[1m20/20\u001b[0m \u001b[32m━━━━━━━━━━━━━━━━━━━━\u001b[0m\u001b[37m\u001b[0m \u001b[1m0s\u001b[0m 11ms/step - accuracy: 0.4885 - loss: 0.0099 - val_accuracy: 0.3484 - val_loss: 0.2063\n",
      "Epoch 19/50\n",
      "\u001b[1m20/20\u001b[0m \u001b[32m━━━━━━━━━━━━━━━━━━━━\u001b[0m\u001b[37m\u001b[0m \u001b[1m0s\u001b[0m 13ms/step - accuracy: 0.4843 - loss: 0.0090 - val_accuracy: 0.3484 - val_loss: 0.2045\n",
      "Epoch 20/50\n",
      "\u001b[1m20/20\u001b[0m \u001b[32m━━━━━━━━━━━━━━━━━━━━\u001b[0m\u001b[37m\u001b[0m \u001b[1m0s\u001b[0m 11ms/step - accuracy: 0.4843 - loss: 0.0082 - val_accuracy: 0.3484 - val_loss: 0.2032\n",
      "Epoch 21/50\n",
      "\u001b[1m20/20\u001b[0m \u001b[32m━━━━━━━━━━━━━━━━━━━━\u001b[0m\u001b[37m\u001b[0m \u001b[1m0s\u001b[0m 10ms/step - accuracy: 0.4856 - loss: 0.0075 - val_accuracy: 0.3484 - val_loss: 0.2017\n",
      "Epoch 22/50\n",
      "\u001b[1m20/20\u001b[0m \u001b[32m━━━━━━━━━━━━━━━━━━━━\u001b[0m\u001b[37m\u001b[0m \u001b[1m0s\u001b[0m 10ms/step - accuracy: 0.4856 - loss: 0.0068 - val_accuracy: 0.3484 - val_loss: 0.2003\n",
      "Epoch 23/50\n",
      "\u001b[1m20/20\u001b[0m \u001b[32m━━━━━━━━━━━━━━━━━━━━\u001b[0m\u001b[37m\u001b[0m \u001b[1m0s\u001b[0m 14ms/step - accuracy: 0.4888 - loss: 0.0062 - val_accuracy: 0.3419 - val_loss: 0.1988\n",
      "Epoch 24/50\n",
      "\u001b[1m20/20\u001b[0m \u001b[32m━━━━━━━━━━━━━━━━━━━━\u001b[0m\u001b[37m\u001b[0m \u001b[1m0s\u001b[0m 18ms/step - accuracy: 0.4888 - loss: 0.0057 - val_accuracy: 0.3419 - val_loss: 0.1975\n",
      "Epoch 25/50\n",
      "\u001b[1m20/20\u001b[0m \u001b[32m━━━━━━━━━━━━━━━━━━━━\u001b[0m\u001b[37m\u001b[0m \u001b[1m0s\u001b[0m 13ms/step - accuracy: 0.4888 - loss: 0.0053 - val_accuracy: 0.3419 - val_loss: 0.1965\n",
      "Epoch 26/50\n",
      "\u001b[1m20/20\u001b[0m \u001b[32m━━━━━━━━━━━━━━━━━━━━\u001b[0m\u001b[37m\u001b[0m \u001b[1m0s\u001b[0m 13ms/step - accuracy: 0.4908 - loss: 0.0049 - val_accuracy: 0.3484 - val_loss: 0.1953\n",
      "Epoch 27/50\n",
      "\u001b[1m20/20\u001b[0m \u001b[32m━━━━━━━━━━━━━━━━━━━━\u001b[0m\u001b[37m\u001b[0m \u001b[1m0s\u001b[0m 13ms/step - accuracy: 0.4908 - loss: 0.0045 - val_accuracy: 0.3484 - val_loss: 0.1943\n",
      "Epoch 28/50\n",
      "\u001b[1m20/20\u001b[0m \u001b[32m━━━━━━━━━━━━━━━━━━━━\u001b[0m\u001b[37m\u001b[0m \u001b[1m0s\u001b[0m 12ms/step - accuracy: 0.4908 - loss: 0.0042 - val_accuracy: 0.3484 - val_loss: 0.1933\n",
      "Epoch 29/50\n",
      "\u001b[1m20/20\u001b[0m \u001b[32m━━━━━━━━━━━━━━━━━━━━\u001b[0m\u001b[37m\u001b[0m \u001b[1m0s\u001b[0m 12ms/step - accuracy: 0.4908 - loss: 0.0039 - val_accuracy: 0.3484 - val_loss: 0.1926\n",
      "Epoch 30/50\n",
      "\u001b[1m20/20\u001b[0m \u001b[32m━━━━━━━━━━━━━━━━━━━━\u001b[0m\u001b[37m\u001b[0m \u001b[1m0s\u001b[0m 13ms/step - accuracy: 0.4908 - loss: 0.0036 - val_accuracy: 0.3484 - val_loss: 0.1921\n",
      "Epoch 31/50\n",
      "\u001b[1m20/20\u001b[0m \u001b[32m━━━━━━━━━━━━━━━━━━━━\u001b[0m\u001b[37m\u001b[0m \u001b[1m0s\u001b[0m 12ms/step - accuracy: 0.4908 - loss: 0.0033 - val_accuracy: 0.3484 - val_loss: 0.1915\n",
      "Epoch 32/50\n",
      "\u001b[1m20/20\u001b[0m \u001b[32m━━━━━━━━━━━━━━━━━━━━\u001b[0m\u001b[37m\u001b[0m \u001b[1m0s\u001b[0m 12ms/step - accuracy: 0.4908 - loss: 0.0031 - val_accuracy: 0.3484 - val_loss: 0.1908\n",
      "Epoch 33/50\n",
      "\u001b[1m20/20\u001b[0m \u001b[32m━━━━━━━━━━━━━━━━━━━━\u001b[0m\u001b[37m\u001b[0m \u001b[1m0s\u001b[0m 13ms/step - accuracy: 0.4908 - loss: 0.0029 - val_accuracy: 0.3484 - val_loss: 0.1904\n",
      "Epoch 34/50\n",
      "\u001b[1m20/20\u001b[0m \u001b[32m━━━━━━━━━━━━━━━━━━━━\u001b[0m\u001b[37m\u001b[0m \u001b[1m0s\u001b[0m 10ms/step - accuracy: 0.4908 - loss: 0.0027 - val_accuracy: 0.3484 - val_loss: 0.1899\n",
      "Epoch 35/50\n",
      "\u001b[1m20/20\u001b[0m \u001b[32m━━━━━━━━━━━━━━━━━━━━\u001b[0m\u001b[37m\u001b[0m \u001b[1m0s\u001b[0m 12ms/step - accuracy: 0.4908 - loss: 0.0026 - val_accuracy: 0.3484 - val_loss: 0.1897\n",
      "Epoch 36/50\n",
      "\u001b[1m20/20\u001b[0m \u001b[32m━━━━━━━━━━━━━━━━━━━━\u001b[0m\u001b[37m\u001b[0m \u001b[1m0s\u001b[0m 12ms/step - accuracy: 0.4908 - loss: 0.0024 - val_accuracy: 0.3484 - val_loss: 0.1894\n",
      "Epoch 37/50\n",
      "\u001b[1m20/20\u001b[0m \u001b[32m━━━━━━━━━━━━━━━━━━━━\u001b[0m\u001b[37m\u001b[0m \u001b[1m0s\u001b[0m 13ms/step - accuracy: 0.4928 - loss: 0.0023 - val_accuracy: 0.3484 - val_loss: 0.1889\n",
      "Epoch 38/50\n",
      "\u001b[1m20/20\u001b[0m \u001b[32m━━━━━━━━━━━━━━━━━━━━\u001b[0m\u001b[37m\u001b[0m \u001b[1m0s\u001b[0m 12ms/step - accuracy: 0.4928 - loss: 0.0022 - val_accuracy: 0.3484 - val_loss: 0.1886\n",
      "Epoch 39/50\n",
      "\u001b[1m20/20\u001b[0m \u001b[32m━━━━━━━━━━━━━━━━━━━━\u001b[0m\u001b[37m\u001b[0m \u001b[1m0s\u001b[0m 13ms/step - accuracy: 0.4928 - loss: 0.0021 - val_accuracy: 0.3484 - val_loss: 0.1883\n",
      "Epoch 40/50\n",
      "\u001b[1m20/20\u001b[0m \u001b[32m━━━━━━━━━━━━━━━━━━━━\u001b[0m\u001b[37m\u001b[0m \u001b[1m0s\u001b[0m 9ms/step - accuracy: 0.4919 - loss: 0.0020 - val_accuracy: 0.3484 - val_loss: 0.1881\n",
      "Epoch 41/50\n",
      "\u001b[1m20/20\u001b[0m \u001b[32m━━━━━━━━━━━━━━━━━━━━\u001b[0m\u001b[37m\u001b[0m \u001b[1m0s\u001b[0m 11ms/step - accuracy: 0.4919 - loss: 0.0019 - val_accuracy: 0.3484 - val_loss: 0.1877\n",
      "Epoch 42/50\n",
      "\u001b[1m20/20\u001b[0m \u001b[32m━━━━━━━━━━━━━━━━━━━━\u001b[0m\u001b[37m\u001b[0m \u001b[1m0s\u001b[0m 10ms/step - accuracy: 0.4919 - loss: 0.0018 - val_accuracy: 0.3484 - val_loss: 0.1874\n",
      "Epoch 43/50\n",
      "\u001b[1m20/20\u001b[0m \u001b[32m━━━━━━━━━━━━━━━━━━━━\u001b[0m\u001b[37m\u001b[0m \u001b[1m0s\u001b[0m 10ms/step - accuracy: 0.4917 - loss: 0.0017 - val_accuracy: 0.3484 - val_loss: 0.1872\n",
      "Epoch 44/50\n",
      "\u001b[1m20/20\u001b[0m \u001b[32m━━━━━━━━━━━━━━━━━━━━\u001b[0m\u001b[37m\u001b[0m \u001b[1m0s\u001b[0m 10ms/step - accuracy: 0.4917 - loss: 0.0016 - val_accuracy: 0.3484 - val_loss: 0.1870\n",
      "Epoch 45/50\n",
      "\u001b[1m20/20\u001b[0m \u001b[32m━━━━━━━━━━━━━━━━━━━━\u001b[0m\u001b[37m\u001b[0m \u001b[1m0s\u001b[0m 10ms/step - accuracy: 0.4917 - loss: 0.0016 - val_accuracy: 0.3484 - val_loss: 0.1868\n",
      "Epoch 46/50\n",
      "\u001b[1m20/20\u001b[0m \u001b[32m━━━━━━━━━━━━━━━━━━━━\u001b[0m\u001b[37m\u001b[0m \u001b[1m0s\u001b[0m 11ms/step - accuracy: 0.4917 - loss: 0.0015 - val_accuracy: 0.3484 - val_loss: 0.1866\n",
      "Epoch 47/50\n",
      "\u001b[1m20/20\u001b[0m \u001b[32m━━━━━━━━━━━━━━━━━━━━\u001b[0m\u001b[37m\u001b[0m \u001b[1m0s\u001b[0m 10ms/step - accuracy: 0.4917 - loss: 0.0015 - val_accuracy: 0.3484 - val_loss: 0.1863\n",
      "Epoch 48/50\n",
      "\u001b[1m20/20\u001b[0m \u001b[32m━━━━━━━━━━━━━━━━━━━━\u001b[0m\u001b[37m\u001b[0m \u001b[1m0s\u001b[0m 10ms/step - accuracy: 0.4919 - loss: 0.0014 - val_accuracy: 0.3484 - val_loss: 0.1860\n",
      "Epoch 49/50\n",
      "\u001b[1m20/20\u001b[0m \u001b[32m━━━━━━━━━━━━━━━━━━━━\u001b[0m\u001b[37m\u001b[0m \u001b[1m0s\u001b[0m 10ms/step - accuracy: 0.4919 - loss: 0.0013 - val_accuracy: 0.3484 - val_loss: 0.1858\n",
      "Epoch 50/50\n",
      "\u001b[1m20/20\u001b[0m \u001b[32m━━━━━━━━━━━━━━━━━━━━\u001b[0m\u001b[37m\u001b[0m \u001b[1m0s\u001b[0m 12ms/step - accuracy: 0.4919 - loss: 0.0013 - val_accuracy: 0.3484 - val_loss: 0.1856\n"
     ]
    }
   ],
   "source": [
    "# Criar e treinar o modelo para plantas\n",
    "model_plants = create_model(X_train_plants.shape[1], y_train_plants.shape[1])\n",
    "history_plants = model_plants.fit(X_train_plants, y_train_plants, epochs=50, batch_size=32, validation_split=0.2)"
   ]
  },
  {
   "cell_type": "code",
   "execution_count": null,
   "metadata": {},
   "outputs": [
    {
     "name": "stdout",
     "output_type": "stream",
     "text": [
      "Epoch 1/50\n",
      "\u001b[1m5/5\u001b[0m \u001b[32m━━━━━━━━━━━━━━━━━━━━\u001b[0m\u001b[37m\u001b[0m \u001b[1m2s\u001b[0m 104ms/step - accuracy: 0.1303 - loss: 0.8235 - val_accuracy: 0.3030 - val_loss: 0.7287\n",
      "Epoch 2/50\n",
      "\u001b[1m5/5\u001b[0m \u001b[32m━━━━━━━━━━━━━━━━━━━━\u001b[0m\u001b[37m\u001b[0m \u001b[1m0s\u001b[0m 32ms/step - accuracy: 0.3057 - loss: 0.6683 - val_accuracy: 0.3030 - val_loss: 0.6719\n",
      "Epoch 3/50\n",
      "\u001b[1m5/5\u001b[0m \u001b[32m━━━━━━━━━━━━━━━━━━━━\u001b[0m\u001b[37m\u001b[0m \u001b[1m0s\u001b[0m 28ms/step - accuracy: 0.4147 - loss: 0.5734 - val_accuracy: 0.2727 - val_loss: 0.6252\n",
      "Epoch 4/50\n",
      "\u001b[1m5/5\u001b[0m \u001b[32m━━━━━━━━━━━━━━━━━━━━\u001b[0m\u001b[37m\u001b[0m \u001b[1m0s\u001b[0m 28ms/step - accuracy: 0.5139 - loss: 0.5043 - val_accuracy: 0.3636 - val_loss: 0.5876\n",
      "Epoch 5/50\n",
      "\u001b[1m5/5\u001b[0m \u001b[32m━━━━━━━━━━━━━━━━━━━━\u001b[0m\u001b[37m\u001b[0m \u001b[1m0s\u001b[0m 34ms/step - accuracy: 0.5663 - loss: 0.4487 - val_accuracy: 0.3636 - val_loss: 0.5541\n",
      "Epoch 6/50\n",
      "\u001b[1m5/5\u001b[0m \u001b[32m━━━━━━━━━━━━━━━━━━━━\u001b[0m\u001b[37m\u001b[0m \u001b[1m0s\u001b[0m 31ms/step - accuracy: 0.6310 - loss: 0.4019 - val_accuracy: 0.3636 - val_loss: 0.5245\n",
      "Epoch 7/50\n",
      "\u001b[1m5/5\u001b[0m \u001b[32m━━━━━━━━━━━━━━━━━━━━\u001b[0m\u001b[37m\u001b[0m \u001b[1m0s\u001b[0m 32ms/step - accuracy: 0.6003 - loss: 0.3617 - val_accuracy: 0.3333 - val_loss: 0.5010\n",
      "Epoch 8/50\n",
      "\u001b[1m5/5\u001b[0m \u001b[32m━━━━━━━━━━━━━━━━━━━━\u001b[0m\u001b[37m\u001b[0m \u001b[1m0s\u001b[0m 28ms/step - accuracy: 0.6369 - loss: 0.3274 - val_accuracy: 0.3636 - val_loss: 0.4819\n",
      "Epoch 9/50\n",
      "\u001b[1m5/5\u001b[0m \u001b[32m━━━━━━━━━━━━━━━━━━━━\u001b[0m\u001b[37m\u001b[0m \u001b[1m0s\u001b[0m 29ms/step - accuracy: 0.6584 - loss: 0.2977 - val_accuracy: 0.3030 - val_loss: 0.4672\n",
      "Epoch 10/50\n",
      "\u001b[1m5/5\u001b[0m \u001b[32m━━━━━━━━━━━━━━━━━━━━\u001b[0m\u001b[37m\u001b[0m \u001b[1m0s\u001b[0m 31ms/step - accuracy: 0.6589 - loss: 0.2722 - val_accuracy: 0.2424 - val_loss: 0.4546\n",
      "Epoch 11/50\n",
      "\u001b[1m5/5\u001b[0m \u001b[32m━━━━━━━━━━━━━━━━━━━━\u001b[0m\u001b[37m\u001b[0m \u001b[1m0s\u001b[0m 28ms/step - accuracy: 0.6803 - loss: 0.2497 - val_accuracy: 0.2727 - val_loss: 0.4440\n",
      "Epoch 12/50\n",
      "\u001b[1m5/5\u001b[0m \u001b[32m━━━━━━━━━━━━━━━━━━━━\u001b[0m\u001b[37m\u001b[0m \u001b[1m0s\u001b[0m 31ms/step - accuracy: 0.7049 - loss: 0.2294 - val_accuracy: 0.3030 - val_loss: 0.4351\n",
      "Epoch 13/50\n",
      "\u001b[1m5/5\u001b[0m \u001b[32m━━━━━━━━━━━━━━━━━━━━\u001b[0m\u001b[37m\u001b[0m \u001b[1m0s\u001b[0m 63ms/step - accuracy: 0.7105 - loss: 0.2111 - val_accuracy: 0.3333 - val_loss: 0.4271\n",
      "Epoch 14/50\n",
      "\u001b[1m5/5\u001b[0m \u001b[32m━━━━━━━━━━━━━━━━━━━━\u001b[0m\u001b[37m\u001b[0m \u001b[1m0s\u001b[0m 33ms/step - accuracy: 0.7295 - loss: 0.1945 - val_accuracy: 0.3333 - val_loss: 0.4195\n",
      "Epoch 15/50\n",
      "\u001b[1m5/5\u001b[0m \u001b[32m━━━━━━━━━━━━━━━━━━━━\u001b[0m\u001b[37m\u001b[0m \u001b[1m0s\u001b[0m 29ms/step - accuracy: 0.7295 - loss: 0.1795 - val_accuracy: 0.3333 - val_loss: 0.4127\n",
      "Epoch 16/50\n",
      "\u001b[1m5/5\u001b[0m \u001b[32m━━━━━━━━━━━━━━━━━━━━\u001b[0m\u001b[37m\u001b[0m \u001b[1m0s\u001b[0m 31ms/step - accuracy: 0.7295 - loss: 0.1660 - val_accuracy: 0.3333 - val_loss: 0.4063\n",
      "Epoch 17/50\n",
      "\u001b[1m5/5\u001b[0m \u001b[32m━━━━━━━━━━━━━━━━━━━━\u001b[0m\u001b[37m\u001b[0m \u001b[1m0s\u001b[0m 29ms/step - accuracy: 0.7376 - loss: 0.1539 - val_accuracy: 0.3636 - val_loss: 0.4000\n",
      "Epoch 18/50\n",
      "\u001b[1m5/5\u001b[0m \u001b[32m━━━━━━━━━━━━━━━━━━━━\u001b[0m\u001b[37m\u001b[0m \u001b[1m0s\u001b[0m 31ms/step - accuracy: 0.7415 - loss: 0.1428 - val_accuracy: 0.3636 - val_loss: 0.3938\n",
      "Epoch 19/50\n",
      "\u001b[1m5/5\u001b[0m \u001b[32m━━━━━━━━━━━━━━━━━━━━\u001b[0m\u001b[37m\u001b[0m \u001b[1m0s\u001b[0m 28ms/step - accuracy: 0.7415 - loss: 0.1326 - val_accuracy: 0.3939 - val_loss: 0.3886\n",
      "Epoch 20/50\n",
      "\u001b[1m5/5\u001b[0m \u001b[32m━━━━━━━━━━━━━━━━━━━━\u001b[0m\u001b[37m\u001b[0m \u001b[1m0s\u001b[0m 30ms/step - accuracy: 0.7471 - loss: 0.1233 - val_accuracy: 0.4242 - val_loss: 0.3847\n",
      "Epoch 21/50\n",
      "\u001b[1m5/5\u001b[0m \u001b[32m━━━━━━━━━━━━━━━━━━━━\u001b[0m\u001b[37m\u001b[0m \u001b[1m0s\u001b[0m 28ms/step - accuracy: 0.7661 - loss: 0.1148 - val_accuracy: 0.4545 - val_loss: 0.3817\n",
      "Epoch 22/50\n",
      "\u001b[1m5/5\u001b[0m \u001b[32m━━━━━━━━━━━━━━━━━━━━\u001b[0m\u001b[37m\u001b[0m \u001b[1m0s\u001b[0m 28ms/step - accuracy: 0.7699 - loss: 0.1070 - val_accuracy: 0.4545 - val_loss: 0.3791\n",
      "Epoch 23/50\n",
      "\u001b[1m5/5\u001b[0m \u001b[32m━━━━━━━━━━━━━━━━━━━━\u001b[0m\u001b[37m\u001b[0m \u001b[1m0s\u001b[0m 29ms/step - accuracy: 0.7699 - loss: 0.0998 - val_accuracy: 0.4545 - val_loss: 0.3767\n",
      "Epoch 24/50\n",
      "\u001b[1m5/5\u001b[0m \u001b[32m━━━━━━━━━━━━━━━━━━━━\u001b[0m\u001b[37m\u001b[0m \u001b[1m0s\u001b[0m 32ms/step - accuracy: 0.7699 - loss: 0.0932 - val_accuracy: 0.4545 - val_loss: 0.3746\n",
      "Epoch 25/50\n",
      "\u001b[1m5/5\u001b[0m \u001b[32m━━━━━━━━━━━━━━━━━━━━\u001b[0m\u001b[37m\u001b[0m \u001b[1m0s\u001b[0m 32ms/step - accuracy: 0.7699 - loss: 0.0871 - val_accuracy: 0.4545 - val_loss: 0.3731\n",
      "Epoch 26/50\n",
      "\u001b[1m5/5\u001b[0m \u001b[32m━━━━━━━━━━━━━━━━━━━━\u001b[0m\u001b[37m\u001b[0m \u001b[1m0s\u001b[0m 35ms/step - accuracy: 0.7699 - loss: 0.0816 - val_accuracy: 0.4545 - val_loss: 0.3717\n",
      "Epoch 27/50\n",
      "\u001b[1m5/5\u001b[0m \u001b[32m━━━━━━━━━━━━━━━━━━━━\u001b[0m\u001b[37m\u001b[0m \u001b[1m0s\u001b[0m 27ms/step - accuracy: 0.7699 - loss: 0.0765 - val_accuracy: 0.4545 - val_loss: 0.3706\n",
      "Epoch 28/50\n",
      "\u001b[1m5/5\u001b[0m \u001b[32m━━━━━━━━━━━━━━━━━━━━\u001b[0m\u001b[37m\u001b[0m \u001b[1m0s\u001b[0m 30ms/step - accuracy: 0.7699 - loss: 0.0717 - val_accuracy: 0.4545 - val_loss: 0.3698\n",
      "Epoch 29/50\n",
      "\u001b[1m5/5\u001b[0m \u001b[32m━━━━━━━━━━━━━━━━━━━━\u001b[0m\u001b[37m\u001b[0m \u001b[1m0s\u001b[0m 29ms/step - accuracy: 0.7819 - loss: 0.0673 - val_accuracy: 0.4848 - val_loss: 0.3689\n",
      "Epoch 30/50\n",
      "\u001b[1m5/5\u001b[0m \u001b[32m━━━━━━━━━━━━━━━━━━━━\u001b[0m\u001b[37m\u001b[0m \u001b[1m0s\u001b[0m 33ms/step - accuracy: 0.7953 - loss: 0.0631 - val_accuracy: 0.4848 - val_loss: 0.3681\n",
      "Epoch 31/50\n",
      "\u001b[1m5/5\u001b[0m \u001b[32m━━━━━━━━━━━━━━━━━━━━\u001b[0m\u001b[37m\u001b[0m \u001b[1m0s\u001b[0m 28ms/step - accuracy: 0.7992 - loss: 0.0592 - val_accuracy: 0.4848 - val_loss: 0.3678\n",
      "Epoch 32/50\n",
      "\u001b[1m5/5\u001b[0m \u001b[32m━━━━━━━━━━━━━━━━━━━━\u001b[0m\u001b[37m\u001b[0m \u001b[1m0s\u001b[0m 27ms/step - accuracy: 0.8208 - loss: 0.0557 - val_accuracy: 0.4848 - val_loss: 0.3675\n",
      "Epoch 33/50\n",
      "\u001b[1m5/5\u001b[0m \u001b[32m━━━━━━━━━━━━━━━━━━━━\u001b[0m\u001b[37m\u001b[0m \u001b[1m0s\u001b[0m 28ms/step - accuracy: 0.8246 - loss: 0.0524 - val_accuracy: 0.4848 - val_loss: 0.3673\n",
      "Epoch 34/50\n",
      "\u001b[1m5/5\u001b[0m \u001b[32m━━━━━━━━━━━━━━━━━━━━\u001b[0m\u001b[37m\u001b[0m \u001b[1m0s\u001b[0m 28ms/step - accuracy: 0.8328 - loss: 0.0492 - val_accuracy: 0.4848 - val_loss: 0.3671\n",
      "Epoch 35/50\n",
      "\u001b[1m5/5\u001b[0m \u001b[32m━━━━━━━━━━━━━━━━━━━━\u001b[0m\u001b[37m\u001b[0m \u001b[1m0s\u001b[0m 28ms/step - accuracy: 0.8328 - loss: 0.0464 - val_accuracy: 0.5152 - val_loss: 0.3672\n",
      "Epoch 36/50\n",
      "\u001b[1m5/5\u001b[0m \u001b[32m━━━━━━━━━━━━━━━━━━━━\u001b[0m\u001b[37m\u001b[0m \u001b[1m0s\u001b[0m 28ms/step - accuracy: 0.8328 - loss: 0.0437 - val_accuracy: 0.5152 - val_loss: 0.3672\n",
      "Epoch 37/50\n",
      "\u001b[1m5/5\u001b[0m \u001b[32m━━━━━━━━━━━━━━━━━━━━\u001b[0m\u001b[37m\u001b[0m \u001b[1m0s\u001b[0m 29ms/step - accuracy: 0.8328 - loss: 0.0413 - val_accuracy: 0.5152 - val_loss: 0.3674\n",
      "Epoch 38/50\n",
      "\u001b[1m5/5\u001b[0m \u001b[32m━━━━━━━━━━━━━━━━━━━━\u001b[0m\u001b[37m\u001b[0m \u001b[1m0s\u001b[0m 28ms/step - accuracy: 0.8272 - loss: 0.0390 - val_accuracy: 0.5152 - val_loss: 0.3682\n",
      "Epoch 39/50\n",
      "\u001b[1m5/5\u001b[0m \u001b[32m━━━━━━━━━━━━━━━━━━━━\u001b[0m\u001b[37m\u001b[0m \u001b[1m0s\u001b[0m 29ms/step - accuracy: 0.8272 - loss: 0.0370 - val_accuracy: 0.5152 - val_loss: 0.3691\n",
      "Epoch 40/50\n",
      "\u001b[1m5/5\u001b[0m \u001b[32m━━━━━━━━━━━━━━━━━━━━\u001b[0m\u001b[37m\u001b[0m \u001b[1m0s\u001b[0m 29ms/step - accuracy: 0.8138 - loss: 0.0351 - val_accuracy: 0.5152 - val_loss: 0.3703\n",
      "Epoch 41/50\n",
      "\u001b[1m5/5\u001b[0m \u001b[32m━━━━━━━━━━━━━━━━━━━━\u001b[0m\u001b[37m\u001b[0m \u001b[1m0s\u001b[0m 31ms/step - accuracy: 0.8138 - loss: 0.0333 - val_accuracy: 0.5152 - val_loss: 0.3716\n",
      "Epoch 42/50\n",
      "\u001b[1m5/5\u001b[0m \u001b[32m━━━━━━━━━━━━━━━━━━━━\u001b[0m\u001b[37m\u001b[0m \u001b[1m0s\u001b[0m 37ms/step - accuracy: 0.8138 - loss: 0.0317 - val_accuracy: 0.5455 - val_loss: 0.3728\n",
      "Epoch 43/50\n",
      "\u001b[1m5/5\u001b[0m \u001b[32m━━━━━━━━━━━━━━━━━━━━\u001b[0m\u001b[37m\u001b[0m \u001b[1m0s\u001b[0m 31ms/step - accuracy: 0.8177 - loss: 0.0301 - val_accuracy: 0.5758 - val_loss: 0.3742\n",
      "Epoch 44/50\n",
      "\u001b[1m5/5\u001b[0m \u001b[32m━━━━━━━━━━━━━━━━━━━━\u001b[0m\u001b[37m\u001b[0m \u001b[1m0s\u001b[0m 31ms/step - accuracy: 0.8258 - loss: 0.0287 - val_accuracy: 0.5758 - val_loss: 0.3755\n",
      "Epoch 45/50\n",
      "\u001b[1m5/5\u001b[0m \u001b[32m━━━━━━━━━━━━━━━━━━━━\u001b[0m\u001b[37m\u001b[0m \u001b[1m0s\u001b[0m 29ms/step - accuracy: 0.8258 - loss: 0.0274 - val_accuracy: 0.5758 - val_loss: 0.3769\n",
      "Epoch 46/50\n",
      "\u001b[1m5/5\u001b[0m \u001b[32m━━━━━━━━━━━━━━━━━━━━\u001b[0m\u001b[37m\u001b[0m \u001b[1m0s\u001b[0m 29ms/step - accuracy: 0.8258 - loss: 0.0261 - val_accuracy: 0.5758 - val_loss: 0.3782\n",
      "Epoch 47/50\n",
      "\u001b[1m5/5\u001b[0m \u001b[32m━━━━━━━━━━━━━━━━━━━━\u001b[0m\u001b[37m\u001b[0m \u001b[1m0s\u001b[0m 28ms/step - accuracy: 0.8258 - loss: 0.0249 - val_accuracy: 0.5758 - val_loss: 0.3795\n",
      "Epoch 48/50\n",
      "\u001b[1m5/5\u001b[0m \u001b[32m━━━━━━━━━━━━━━━━━━━━\u001b[0m\u001b[37m\u001b[0m \u001b[1m0s\u001b[0m 43ms/step - accuracy: 0.8258 - loss: 0.0238 - val_accuracy: 0.5758 - val_loss: 0.3806\n",
      "Epoch 49/50\n",
      "\u001b[1m5/5\u001b[0m \u001b[32m━━━━━━━━━━━━━━━━━━━━\u001b[0m\u001b[37m\u001b[0m \u001b[1m0s\u001b[0m 33ms/step - accuracy: 0.8258 - loss: 0.0228 - val_accuracy: 0.5758 - val_loss: 0.3817\n",
      "Epoch 50/50\n",
      "\u001b[1m5/5\u001b[0m \u001b[32m━━━━━━━━━━━━━━━━━━━━\u001b[0m\u001b[37m\u001b[0m \u001b[1m0s\u001b[0m 28ms/step - accuracy: 0.8258 - loss: 0.0218 - val_accuracy: 0.5758 - val_loss: 0.3828\n"
     ]
    }
   ],
   "source": [
    "# Criar e treinar o modelo para vírus\n",
    "model_virus = create_model(X_train_virus.shape[1], y_train_virus.shape[1])\n",
    "history_virus = model_virus.fit(X_train_virus, y_train_virus, epochs=50, batch_size=32, validation_split=0.2)"
   ]
  },
  {
   "cell_type": "code",
   "execution_count": null,
   "metadata": {},
   "outputs": [
    {
     "name": "stdout",
     "output_type": "stream",
     "text": [
      "\u001b[1m7/7\u001b[0m \u001b[32m━━━━━━━━━━━━━━━━━━━━\u001b[0m\u001b[37m\u001b[0m \u001b[1m0s\u001b[0m 19ms/step\n",
      "\u001b[1m25/25\u001b[0m \u001b[32m━━━━━━━━━━━━━━━━━━━━\u001b[0m\u001b[37m\u001b[0m \u001b[1m0s\u001b[0m 3ms/step \n",
      "\u001b[1m2/2\u001b[0m \u001b[32m━━━━━━━━━━━━━━━━━━━━\u001b[0m\u001b[37m\u001b[0m \u001b[1m0s\u001b[0m 82ms/step\n",
      "\u001b[1m6/6\u001b[0m \u001b[32m━━━━━━━━━━━━━━━━━━━━\u001b[0m\u001b[37m\u001b[0m \u001b[1m0s\u001b[0m 7ms/step \n"
     ]
    }
   ],
   "source": [
    "# Obter previsões para o conjunto de teste de plantas\n",
    "predictions_plants_test = model_plants.predict(X_test_plants)\n",
    "\n",
    "# Obter previsões para o conjunto de treino de plantas\n",
    "predictions_plants_train = model_plants.predict(X_train_plants)\n",
    "\n",
    "\n",
    "# Obter previsões para o conjunto de teste de vírus\n",
    "predictions_virus_test = model_virus.predict(X_test_virus)\n",
    "\n",
    "# Obter previsões para o conjunto de treino de vírus\n",
    "predictions_virus_train = model_virus.predict(X_train_virus)\n",
    "\n",
    "\n",
    "# Transformar as probabilidades em rótulos binários (0 ou 1) com um limiar de 0.5\n",
    "predicted_classes_plants_test = (predictions_plants_test > 0.5).astype(int)\n",
    "predicted_classes_plants_train = (predictions_plants_train > 0.5).astype(int)\n",
    "predicted_classes_virus_test = (predictions_virus_test > 0.5).astype(int)\n",
    "predicted_classes_virus_train = (predictions_virus_train > 0.5).astype(int)\n"
   ]
  },
  {
   "cell_type": "code",
   "execution_count": null,
   "metadata": {},
   "outputs": [],
   "source": [
    "def hamming_loss(predictions, actual_values):\n",
    "    N = len(predictions)\n",
    "    L = 6\n",
    "\n",
    "    s = 0\n",
    "\n",
    "    for i in range(N):\n",
    "        for j in range(L):\n",
    "            s += predictions[i][j] ^ actual_values[i][j]\n",
    "    \n",
    "    return s / (N * L)"
   ]
  },
  {
   "cell_type": "code",
   "execution_count": null,
   "metadata": {},
   "outputs": [],
   "source": [
    "possibilidades = [\n",
    "    [predicted_classes_plants_train, y_train_plants, 'dados de treino das plantas'],\n",
    "    [predicted_classes_plants_test, y_test_plants, 'dados de teste das plantas'],\n",
    "    [predicted_classes_virus_train, y_train_virus, 'dados de treino dos vírus'],\n",
    "    [predicted_classes_virus_test, y_test_virus, 'dados de teste dos vírus']\n",
    "]"
   ]
  },
  {
   "cell_type": "code",
   "execution_count": null,
   "metadata": {},
   "outputs": [
    {
     "name": "stdout",
     "output_type": "stream",
     "text": [
      "A hamming loss nos dados de treino das plantas foi de 1.49%\n",
      "A hamming loss nos dados de teste das plantas foi de 3.02%\n",
      "A hamming loss nos dados de treino dos vírus foi de 2.95%\n",
      "A hamming loss nos dados de teste dos vírus foi de 6.10%\n"
     ]
    }
   ],
   "source": [
    "for possibilidade in possibilidades:\n",
    "    print(f'A hamming loss nos {possibilidade[-1]} foi de {100*hamming_loss(*possibilidade[:-1]):.2f}%')"
   ]
  }
 ],
 "metadata": {
  "kernelspec": {
   "display_name": "Python 3",
   "language": "python",
   "name": "python3"
  },
  "language_info": {
   "codemirror_mode": {
    "name": "ipython",
    "version": 3
   },
   "file_extension": ".py",
   "mimetype": "text/x-python",
   "name": "python",
   "nbconvert_exporter": "python",
   "pygments_lexer": "ipython3",
   "version": "3.8.10"
  }
 },
 "nbformat": 4,
 "nbformat_minor": 2
}
