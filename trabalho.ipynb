{
 "cells": [
  {
   "cell_type": "markdown",
   "metadata": {},
   "source": [
    "# Computação Bioinspirada 2024-02\n",
    "\n",
    "Este repositório contém o trabalho da Tópicos Avançados em Ciências de Computação II\n",
    "(Computação Bioinspirada, no semestre 2024-02).\n",
    "\n",
    "O trabalho consiste em trabalhar com um conjunto de dados multirrótulo onde cada instância representa uma sequência de\n",
    "proteína. Cada rótulo (classe) corresponde a uma localização subcelular e as proteínas podem estar presentes\n",
    "simultaneamente em dois ou mais compartimentos celulares. O conjunto de dados possui seis localizações\n",
    "subcelulares: Proteínas do Capsídeo Viral, Proteínas da Membrana Celular do Hospedeiro, Proteínas do Retículo\n",
    "Endoplasmático do Hospedeiro, Proteínas do Citoplasma do Hospedeiro, Proteínas do Núcleo do Hospedeiro e\n",
    "Proteínas Secretadas. As colunas representam os códigos de Gene Ontology (relacionados à função da proteína),\n",
    "com valores que indicam a frequência do código para cada proteína. As seis últimas colunas indicam a presença\n",
    "(1) ou ausência (0) da proteína em cada uma das localizações subcelulares mencionadas.\n",
    "\n",
    "Desenvolvemos um modelo de classificação multirrótulo usando **redes neurais artificiais**.\n",
    "\n",
    "Existem dois conjuntos de dados: um de vírus e um de plantas.\n"
   ]
  },
  {
   "cell_type": "markdown",
   "metadata": {},
   "source": [
    "### Imports "
   ]
  },
  {
   "cell_type": "code",
   "execution_count": 148,
   "metadata": {},
   "outputs": [],
   "source": [
    "import pandas as pd\n",
    "from sklearn.model_selection import train_test_split\n",
    "from sklearn.preprocessing import StandardScaler\n",
    "from tensorflow.keras.models import Sequential\n",
    "from tensorflow.keras.layers import Dense\n",
    "from tensorflow.keras.utils import to_categorical\n",
    "import tensorflow as tf"
   ]
  },
  {
   "cell_type": "code",
   "execution_count": 149,
   "metadata": {},
   "outputs": [],
   "source": [
    "random_seed = 42\n",
    "tf.random.set_seed(random_seed)\n",
    "tf.keras.utils.set_random_seed(random_seed)"
   ]
  },
  {
   "cell_type": "markdown",
   "metadata": {},
   "source": [
    "### Lendo os dados dos datasets e separando em treino e teste"
   ]
  },
  {
   "cell_type": "code",
   "execution_count": 150,
   "metadata": {},
   "outputs": [],
   "source": [
    "plants_dataset = pd.read_csv('./Plants_Dataset_Term_Frequency.tsv', sep='\\t', skiprows=1).iloc[:, 1:]\n",
    "virus_dataset =  pd.read_csv('./Virus_Dataset_Term_Frequency.tsv', sep='\\t', skiprows=1).iloc[:, 1:]"
   ]
  },
  {
   "cell_type": "code",
   "execution_count": 151,
   "metadata": {},
   "outputs": [],
   "source": [
    "# Separar as features e os rótulos para o dataset de plantas\n",
    "X_plants = plants_dataset.iloc[:, :-6].values  # Todas as colunas, exceto as últimas 6 e a primeira\n",
    "y_plants = plants_dataset.iloc[:, -6:].values  # As últimas 6 colunas (rótulos)\n",
    "\n",
    "# Separar as features e os rótulos para o dataset de vírus\n",
    "X_virus = virus_dataset.iloc[:, :-6].values\n",
    "y_virus = virus_dataset.iloc[:, -6:].values\n",
    "\n",
    "# Dividir dados em treino e teste\n",
    "X_train_plants, X_test_plants, y_train_plants, y_test_plants = train_test_split(\n",
    "    X_plants, y_plants, test_size=0.2, random_state=random_seed\n",
    ")\n",
    "\n",
    "X_train_virus, X_test_virus, y_train_virus, y_test_virus = train_test_split(\n",
    "    X_virus, y_virus, test_size=0.2, random_state=random_seed\n",
    ")"
   ]
  },
  {
   "cell_type": "code",
   "execution_count": 152,
   "metadata": {},
   "outputs": [],
   "source": [
    "\n",
    "# Padronizar os dados\n",
    "scaler_plants = StandardScaler()\n",
    "X_train_plants = scaler_plants.fit_transform(X_train_plants)\n",
    "X_test_plants = scaler_plants.transform(X_test_plants)\n",
    "\n",
    "scaler_virus = StandardScaler()\n",
    "X_train_virus = scaler_virus.fit_transform(X_train_virus)\n",
    "X_test_virus = scaler_virus.transform(X_test_virus)"
   ]
  },
  {
   "cell_type": "code",
   "execution_count": 153,
   "metadata": {},
   "outputs": [],
   "source": [
    "# Arquitetura da rede neural\n",
    "def create_model(input_shape, output_shape):\n",
    "    model = Sequential([\n",
    "        Dense(64, activation='relu', input_shape=(input_shape,)),\n",
    "        Dense(32, activation='relu'),\n",
    "        Dense(output_shape, activation='sigmoid')  # Saída com sigmoid para classificação binária\n",
    "    ])\n",
    "    model.compile(optimizer='adam', loss='binary_crossentropy', metrics=['accuracy'])\n",
    "    return model"
   ]
  },
  {
   "cell_type": "code",
   "execution_count": 154,
   "metadata": {},
   "outputs": [
    {
     "name": "stdout",
     "output_type": "stream",
     "text": [
      "Epoch 1/50\n",
      "20/20 [==============================] - 1s 9ms/step - loss: 0.6921 - accuracy: 0.1831 - val_loss: 0.5993 - val_accuracy: 0.2968\n",
      "Epoch 2/50\n",
      "20/20 [==============================] - 0s 4ms/step - loss: 0.2966 - accuracy: 0.2934 - val_loss: 0.4175 - val_accuracy: 0.3097\n",
      "Epoch 3/50\n",
      "20/20 [==============================] - 0s 4ms/step - loss: 0.1636 - accuracy: 0.3614 - val_loss: 0.3382 - val_accuracy: 0.2581\n",
      "Epoch 4/50\n",
      "20/20 [==============================] - 0s 4ms/step - loss: 0.1105 - accuracy: 0.4230 - val_loss: 0.3063 - val_accuracy: 0.2774\n",
      "Epoch 5/50\n",
      "20/20 [==============================] - 0s 4ms/step - loss: 0.0810 - accuracy: 0.4279 - val_loss: 0.2816 - val_accuracy: 0.2774\n",
      "Epoch 6/50\n",
      "20/20 [==============================] - 0s 4ms/step - loss: 0.0622 - accuracy: 0.4522 - val_loss: 0.2657 - val_accuracy: 0.2903\n",
      "Epoch 7/50\n",
      "20/20 [==============================] - 0s 4ms/step - loss: 0.0486 - accuracy: 0.4603 - val_loss: 0.2511 - val_accuracy: 0.3097\n",
      "Epoch 8/50\n",
      "20/20 [==============================] - 0s 4ms/step - loss: 0.0392 - accuracy: 0.4554 - val_loss: 0.2426 - val_accuracy: 0.3161\n",
      "Epoch 9/50\n",
      "20/20 [==============================] - 0s 4ms/step - loss: 0.0319 - accuracy: 0.4603 - val_loss: 0.2366 - val_accuracy: 0.3290\n",
      "Epoch 10/50\n",
      "20/20 [==============================] - 0s 4ms/step - loss: 0.0264 - accuracy: 0.4619 - val_loss: 0.2300 - val_accuracy: 0.3226\n",
      "Epoch 11/50\n",
      "20/20 [==============================] - 0s 4ms/step - loss: 0.0222 - accuracy: 0.4652 - val_loss: 0.2253 - val_accuracy: 0.3290\n",
      "Epoch 12/50\n",
      "20/20 [==============================] - 0s 4ms/step - loss: 0.0194 - accuracy: 0.4700 - val_loss: 0.2224 - val_accuracy: 0.3226\n",
      "Epoch 13/50\n",
      "20/20 [==============================] - 0s 5ms/step - loss: 0.0168 - accuracy: 0.4781 - val_loss: 0.2186 - val_accuracy: 0.3226\n",
      "Epoch 14/50\n",
      "20/20 [==============================] - 0s 4ms/step - loss: 0.0152 - accuracy: 0.4716 - val_loss: 0.2149 - val_accuracy: 0.3226\n",
      "Epoch 15/50\n",
      "20/20 [==============================] - 0s 5ms/step - loss: 0.0131 - accuracy: 0.4749 - val_loss: 0.2130 - val_accuracy: 0.3355\n",
      "Epoch 16/50\n",
      "20/20 [==============================] - 0s 4ms/step - loss: 0.0115 - accuracy: 0.4765 - val_loss: 0.2103 - val_accuracy: 0.3355\n",
      "Epoch 17/50\n",
      "20/20 [==============================] - 0s 4ms/step - loss: 0.0106 - accuracy: 0.4733 - val_loss: 0.2081 - val_accuracy: 0.3355\n",
      "Epoch 18/50\n",
      "20/20 [==============================] - 0s 4ms/step - loss: 0.0094 - accuracy: 0.4765 - val_loss: 0.2049 - val_accuracy: 0.3355\n",
      "Epoch 19/50\n",
      "20/20 [==============================] - 0s 4ms/step - loss: 0.0086 - accuracy: 0.4846 - val_loss: 0.2030 - val_accuracy: 0.3419\n",
      "Epoch 20/50\n",
      "20/20 [==============================] - 0s 4ms/step - loss: 0.0077 - accuracy: 0.4830 - val_loss: 0.2013 - val_accuracy: 0.3419\n",
      "Epoch 21/50\n",
      "20/20 [==============================] - 0s 4ms/step - loss: 0.0070 - accuracy: 0.4765 - val_loss: 0.2002 - val_accuracy: 0.3419\n",
      "Epoch 22/50\n",
      "20/20 [==============================] - 0s 4ms/step - loss: 0.0065 - accuracy: 0.4765 - val_loss: 0.1988 - val_accuracy: 0.3419\n",
      "Epoch 23/50\n",
      "20/20 [==============================] - 0s 4ms/step - loss: 0.0061 - accuracy: 0.4781 - val_loss: 0.1969 - val_accuracy: 0.3419\n",
      "Epoch 24/50\n",
      "20/20 [==============================] - 0s 4ms/step - loss: 0.0055 - accuracy: 0.4781 - val_loss: 0.1961 - val_accuracy: 0.3419\n",
      "Epoch 25/50\n",
      "20/20 [==============================] - 0s 4ms/step - loss: 0.0051 - accuracy: 0.4781 - val_loss: 0.1949 - val_accuracy: 0.3419\n",
      "Epoch 26/50\n",
      "20/20 [==============================] - 0s 4ms/step - loss: 0.0046 - accuracy: 0.4814 - val_loss: 0.1934 - val_accuracy: 0.3484\n",
      "Epoch 27/50\n",
      "20/20 [==============================] - 0s 4ms/step - loss: 0.0044 - accuracy: 0.4797 - val_loss: 0.1930 - val_accuracy: 0.3484\n",
      "Epoch 28/50\n",
      "20/20 [==============================] - 0s 4ms/step - loss: 0.0040 - accuracy: 0.4814 - val_loss: 0.1926 - val_accuracy: 0.3484\n",
      "Epoch 29/50\n",
      "20/20 [==============================] - 0s 4ms/step - loss: 0.0039 - accuracy: 0.4797 - val_loss: 0.1921 - val_accuracy: 0.3484\n",
      "Epoch 30/50\n",
      "20/20 [==============================] - 0s 4ms/step - loss: 0.0036 - accuracy: 0.4781 - val_loss: 0.1914 - val_accuracy: 0.3484\n",
      "Epoch 31/50\n",
      "20/20 [==============================] - 0s 4ms/step - loss: 0.0035 - accuracy: 0.4830 - val_loss: 0.1894 - val_accuracy: 0.3484\n",
      "Epoch 32/50\n",
      "20/20 [==============================] - 0s 4ms/step - loss: 0.0032 - accuracy: 0.4749 - val_loss: 0.1895 - val_accuracy: 0.3419\n",
      "Epoch 33/50\n",
      "20/20 [==============================] - 0s 4ms/step - loss: 0.0030 - accuracy: 0.4733 - val_loss: 0.1884 - val_accuracy: 0.3419\n",
      "Epoch 34/50\n",
      "20/20 [==============================] - 0s 4ms/step - loss: 0.0028 - accuracy: 0.4749 - val_loss: 0.1881 - val_accuracy: 0.3355\n",
      "Epoch 35/50\n",
      "20/20 [==============================] - 0s 4ms/step - loss: 0.0027 - accuracy: 0.4797 - val_loss: 0.1874 - val_accuracy: 0.3355\n",
      "Epoch 36/50\n",
      "20/20 [==============================] - 0s 4ms/step - loss: 0.0025 - accuracy: 0.4749 - val_loss: 0.1875 - val_accuracy: 0.3355\n",
      "Epoch 37/50\n",
      "20/20 [==============================] - 0s 4ms/step - loss: 0.0024 - accuracy: 0.4765 - val_loss: 0.1867 - val_accuracy: 0.3355\n",
      "Epoch 38/50\n",
      "20/20 [==============================] - 0s 4ms/step - loss: 0.0023 - accuracy: 0.4716 - val_loss: 0.1870 - val_accuracy: 0.3355\n",
      "Epoch 39/50\n",
      "20/20 [==============================] - 0s 4ms/step - loss: 0.0023 - accuracy: 0.4733 - val_loss: 0.1866 - val_accuracy: 0.3355\n",
      "Epoch 40/50\n",
      "20/20 [==============================] - 0s 4ms/step - loss: 0.0022 - accuracy: 0.4781 - val_loss: 0.1861 - val_accuracy: 0.3355\n",
      "Epoch 41/50\n",
      "20/20 [==============================] - 0s 4ms/step - loss: 0.0021 - accuracy: 0.4797 - val_loss: 0.1859 - val_accuracy: 0.3355\n",
      "Epoch 42/50\n",
      "20/20 [==============================] - 0s 4ms/step - loss: 0.0020 - accuracy: 0.4781 - val_loss: 0.1857 - val_accuracy: 0.3355\n",
      "Epoch 43/50\n",
      "20/20 [==============================] - 0s 5ms/step - loss: 0.0019 - accuracy: 0.4765 - val_loss: 0.1854 - val_accuracy: 0.3355\n",
      "Epoch 44/50\n",
      "20/20 [==============================] - 0s 5ms/step - loss: 0.0018 - accuracy: 0.4765 - val_loss: 0.1849 - val_accuracy: 0.3355\n",
      "Epoch 45/50\n",
      "20/20 [==============================] - 0s 3ms/step - loss: 0.0018 - accuracy: 0.4781 - val_loss: 0.1847 - val_accuracy: 0.3355\n",
      "Epoch 46/50\n",
      "20/20 [==============================] - 0s 4ms/step - loss: 0.0017 - accuracy: 0.4797 - val_loss: 0.1846 - val_accuracy: 0.3355\n",
      "Epoch 47/50\n",
      "20/20 [==============================] - 0s 4ms/step - loss: 0.0017 - accuracy: 0.4797 - val_loss: 0.1844 - val_accuracy: 0.3419\n",
      "Epoch 48/50\n",
      "20/20 [==============================] - 0s 4ms/step - loss: 0.0017 - accuracy: 0.4781 - val_loss: 0.1839 - val_accuracy: 0.3419\n",
      "Epoch 49/50\n",
      "20/20 [==============================] - 0s 4ms/step - loss: 0.0016 - accuracy: 0.4797 - val_loss: 0.1842 - val_accuracy: 0.3419\n",
      "Epoch 50/50\n",
      "20/20 [==============================] - 0s 4ms/step - loss: 0.0016 - accuracy: 0.4781 - val_loss: 0.1839 - val_accuracy: 0.3419\n"
     ]
    }
   ],
   "source": [
    "# Criar e treinar o modelo para plantas\n",
    "model_plants = create_model(X_train_plants.shape[1], y_train_plants.shape[1])\n",
    "history_plants = model_plants.fit(X_train_plants, y_train_plants, epochs=50, batch_size=32, validation_split=0.2)"
   ]
  },
  {
   "cell_type": "code",
   "execution_count": 155,
   "metadata": {},
   "outputs": [
    {
     "name": "stdout",
     "output_type": "stream",
     "text": [
      "Epoch 1/50\n",
      "5/5 [==============================] - 1s 28ms/step - loss: 0.8241 - accuracy: 0.1603 - val_loss: 0.7287 - val_accuracy: 0.3030\n",
      "Epoch 2/50\n",
      "5/5 [==============================] - 0s 7ms/step - loss: 0.6750 - accuracy: 0.3053 - val_loss: 0.6721 - val_accuracy: 0.3030\n",
      "Epoch 3/50\n",
      "5/5 [==============================] - 0s 7ms/step - loss: 0.5777 - accuracy: 0.3969 - val_loss: 0.6260 - val_accuracy: 0.3030\n",
      "Epoch 4/50\n",
      "5/5 [==============================] - 0s 7ms/step - loss: 0.5073 - accuracy: 0.4962 - val_loss: 0.5872 - val_accuracy: 0.3333\n",
      "Epoch 5/50\n",
      "5/5 [==============================] - 0s 7ms/step - loss: 0.4516 - accuracy: 0.5573 - val_loss: 0.5520 - val_accuracy: 0.3939\n",
      "Epoch 6/50\n",
      "5/5 [==============================] - 0s 7ms/step - loss: 0.4055 - accuracy: 0.5954 - val_loss: 0.5219 - val_accuracy: 0.3939\n",
      "Epoch 7/50\n",
      "5/5 [==============================] - 0s 7ms/step - loss: 0.3663 - accuracy: 0.6565 - val_loss: 0.4992 - val_accuracy: 0.4242\n",
      "Epoch 8/50\n",
      "5/5 [==============================] - 0s 7ms/step - loss: 0.3335 - accuracy: 0.6870 - val_loss: 0.4806 - val_accuracy: 0.3636\n",
      "Epoch 9/50\n",
      "5/5 [==============================] - 0s 7ms/step - loss: 0.3057 - accuracy: 0.6489 - val_loss: 0.4645 - val_accuracy: 0.3636\n",
      "Epoch 10/50\n",
      "5/5 [==============================] - 0s 7ms/step - loss: 0.2805 - accuracy: 0.6718 - val_loss: 0.4514 - val_accuracy: 0.3333\n",
      "Epoch 11/50\n",
      "5/5 [==============================] - 0s 7ms/step - loss: 0.2603 - accuracy: 0.7099 - val_loss: 0.4417 - val_accuracy: 0.3030\n",
      "Epoch 12/50\n",
      "5/5 [==============================] - 0s 7ms/step - loss: 0.2427 - accuracy: 0.7176 - val_loss: 0.4331 - val_accuracy: 0.3030\n",
      "Epoch 13/50\n",
      "5/5 [==============================] - 0s 7ms/step - loss: 0.2265 - accuracy: 0.7023 - val_loss: 0.4238 - val_accuracy: 0.3030\n",
      "Epoch 14/50\n",
      "5/5 [==============================] - 0s 7ms/step - loss: 0.2114 - accuracy: 0.7023 - val_loss: 0.4149 - val_accuracy: 0.3636\n",
      "Epoch 15/50\n",
      "5/5 [==============================] - 0s 7ms/step - loss: 0.1974 - accuracy: 0.7176 - val_loss: 0.4080 - val_accuracy: 0.3636\n",
      "Epoch 16/50\n",
      "5/5 [==============================] - 0s 7ms/step - loss: 0.1846 - accuracy: 0.7252 - val_loss: 0.4021 - val_accuracy: 0.3636\n",
      "Epoch 17/50\n",
      "5/5 [==============================] - 0s 7ms/step - loss: 0.1723 - accuracy: 0.7328 - val_loss: 0.3957 - val_accuracy: 0.3939\n",
      "Epoch 18/50\n",
      "5/5 [==============================] - 0s 7ms/step - loss: 0.1606 - accuracy: 0.7481 - val_loss: 0.3909 - val_accuracy: 0.3939\n",
      "Epoch 19/50\n",
      "5/5 [==============================] - 0s 7ms/step - loss: 0.1506 - accuracy: 0.7557 - val_loss: 0.3863 - val_accuracy: 0.3939\n",
      "Epoch 20/50\n",
      "5/5 [==============================] - 0s 7ms/step - loss: 0.1407 - accuracy: 0.7557 - val_loss: 0.3821 - val_accuracy: 0.3939\n",
      "Epoch 21/50\n",
      "5/5 [==============================] - 0s 7ms/step - loss: 0.1318 - accuracy: 0.7863 - val_loss: 0.3784 - val_accuracy: 0.3939\n",
      "Epoch 22/50\n",
      "5/5 [==============================] - 0s 7ms/step - loss: 0.1236 - accuracy: 0.7863 - val_loss: 0.3761 - val_accuracy: 0.4242\n",
      "Epoch 23/50\n",
      "5/5 [==============================] - 0s 7ms/step - loss: 0.1164 - accuracy: 0.7710 - val_loss: 0.3749 - val_accuracy: 0.4242\n",
      "Epoch 24/50\n",
      "5/5 [==============================] - 0s 7ms/step - loss: 0.1093 - accuracy: 0.7634 - val_loss: 0.3732 - val_accuracy: 0.4242\n",
      "Epoch 25/50\n",
      "5/5 [==============================] - 0s 7ms/step - loss: 0.1026 - accuracy: 0.7786 - val_loss: 0.3708 - val_accuracy: 0.4242\n",
      "Epoch 26/50\n",
      "5/5 [==============================] - 0s 7ms/step - loss: 0.0963 - accuracy: 0.8244 - val_loss: 0.3656 - val_accuracy: 0.4545\n",
      "Epoch 27/50\n",
      "5/5 [==============================] - 0s 7ms/step - loss: 0.0909 - accuracy: 0.8321 - val_loss: 0.3625 - val_accuracy: 0.4545\n",
      "Epoch 28/50\n",
      "5/5 [==============================] - 0s 7ms/step - loss: 0.0853 - accuracy: 0.8321 - val_loss: 0.3634 - val_accuracy: 0.4848\n",
      "Epoch 29/50\n",
      "5/5 [==============================] - 0s 8ms/step - loss: 0.0814 - accuracy: 0.8321 - val_loss: 0.3654 - val_accuracy: 0.4545\n",
      "Epoch 30/50\n",
      "5/5 [==============================] - 0s 7ms/step - loss: 0.0769 - accuracy: 0.8321 - val_loss: 0.3643 - val_accuracy: 0.4848\n",
      "Epoch 31/50\n",
      "5/5 [==============================] - 0s 7ms/step - loss: 0.0723 - accuracy: 0.8244 - val_loss: 0.3646 - val_accuracy: 0.4848\n",
      "Epoch 32/50\n",
      "5/5 [==============================] - 0s 7ms/step - loss: 0.0684 - accuracy: 0.8244 - val_loss: 0.3632 - val_accuracy: 0.5152\n",
      "Epoch 33/50\n",
      "5/5 [==============================] - 0s 7ms/step - loss: 0.0647 - accuracy: 0.8321 - val_loss: 0.3589 - val_accuracy: 0.5152\n",
      "Epoch 34/50\n",
      "5/5 [==============================] - 0s 7ms/step - loss: 0.0612 - accuracy: 0.8244 - val_loss: 0.3550 - val_accuracy: 0.5152\n",
      "Epoch 35/50\n",
      "5/5 [==============================] - 0s 7ms/step - loss: 0.0579 - accuracy: 0.8244 - val_loss: 0.3544 - val_accuracy: 0.5152\n",
      "Epoch 36/50\n",
      "5/5 [==============================] - 0s 7ms/step - loss: 0.0550 - accuracy: 0.8244 - val_loss: 0.3515 - val_accuracy: 0.5455\n",
      "Epoch 37/50\n",
      "5/5 [==============================] - 0s 7ms/step - loss: 0.0521 - accuracy: 0.8321 - val_loss: 0.3494 - val_accuracy: 0.5455\n",
      "Epoch 38/50\n",
      "5/5 [==============================] - 0s 7ms/step - loss: 0.0500 - accuracy: 0.8321 - val_loss: 0.3492 - val_accuracy: 0.5455\n",
      "Epoch 39/50\n",
      "5/5 [==============================] - 0s 7ms/step - loss: 0.0475 - accuracy: 0.8321 - val_loss: 0.3523 - val_accuracy: 0.5455\n",
      "Epoch 40/50\n",
      "5/5 [==============================] - 0s 7ms/step - loss: 0.0451 - accuracy: 0.8321 - val_loss: 0.3540 - val_accuracy: 0.5455\n",
      "Epoch 41/50\n",
      "5/5 [==============================] - 0s 7ms/step - loss: 0.0426 - accuracy: 0.8473 - val_loss: 0.3579 - val_accuracy: 0.5455\n",
      "Epoch 42/50\n",
      "5/5 [==============================] - 0s 7ms/step - loss: 0.0409 - accuracy: 0.8550 - val_loss: 0.3610 - val_accuracy: 0.5758\n",
      "Epoch 43/50\n",
      "5/5 [==============================] - 0s 7ms/step - loss: 0.0394 - accuracy: 0.8626 - val_loss: 0.3629 - val_accuracy: 0.5758\n",
      "Epoch 44/50\n",
      "5/5 [==============================] - 0s 7ms/step - loss: 0.0374 - accuracy: 0.8626 - val_loss: 0.3657 - val_accuracy: 0.5455\n",
      "Epoch 45/50\n",
      "5/5 [==============================] - 0s 7ms/step - loss: 0.0358 - accuracy: 0.8550 - val_loss: 0.3654 - val_accuracy: 0.5455\n",
      "Epoch 46/50\n",
      "5/5 [==============================] - 0s 7ms/step - loss: 0.0340 - accuracy: 0.8550 - val_loss: 0.3614 - val_accuracy: 0.5758\n",
      "Epoch 47/50\n",
      "5/5 [==============================] - 0s 7ms/step - loss: 0.0328 - accuracy: 0.8626 - val_loss: 0.3594 - val_accuracy: 0.5758\n",
      "Epoch 48/50\n",
      "5/5 [==============================] - 0s 8ms/step - loss: 0.0317 - accuracy: 0.8855 - val_loss: 0.3596 - val_accuracy: 0.6061\n",
      "Epoch 49/50\n",
      "5/5 [==============================] - 0s 7ms/step - loss: 0.0303 - accuracy: 0.8779 - val_loss: 0.3613 - val_accuracy: 0.5758\n",
      "Epoch 50/50\n",
      "5/5 [==============================] - 0s 7ms/step - loss: 0.0287 - accuracy: 0.8626 - val_loss: 0.3632 - val_accuracy: 0.5758\n"
     ]
    }
   ],
   "source": [
    "# Criar e treinar o modelo para vírus\n",
    "model_virus = create_model(X_train_virus.shape[1], y_train_virus.shape[1])\n",
    "history_virus = model_virus.fit(X_train_virus, y_train_virus, epochs=50, batch_size=32, validation_split=0.2)"
   ]
  },
  {
   "cell_type": "code",
   "execution_count": 156,
   "metadata": {},
   "outputs": [
    {
     "name": "stdout",
     "output_type": "stream",
     "text": [
      "7/7 [==============================] - 0s 2ms/step\n",
      "25/25 [==============================] - 0s 1ms/step\n",
      "2/2 [==============================] - 0s 2ms/step\n",
      "6/6 [==============================] - 0s 1ms/step\n"
     ]
    }
   ],
   "source": [
    "# Obter previsões para o conjunto de teste de plantas\n",
    "predictions_plants_test = model_plants.predict(X_test_plants)\n",
    "\n",
    "# Obter previsões para o conjunto de treino de plantas\n",
    "predictions_plants_train = model_plants.predict(X_train_plants)\n",
    "\n",
    "\n",
    "# Obter previsões para o conjunto de teste de vírus\n",
    "predictions_virus_test = model_virus.predict(X_test_virus)\n",
    "\n",
    "# Obter previsões para o conjunto de treino de vírus\n",
    "predictions_virus_train = model_virus.predict(X_train_virus)\n",
    "\n",
    "\n",
    "# Transformar as probabilidades em rótulos binários (0 ou 1) com um limiar de 0.5\n",
    "predicted_classes_plants_test = (predictions_plants_test > 0.5).astype(int)\n",
    "predicted_classes_plants_train = (predictions_plants_train > 0.5).astype(int)\n",
    "predicted_classes_virus_test = (predictions_virus_test > 0.5).astype(int)\n",
    "predicted_classes_virus_train = (predictions_virus_train > 0.5).astype(int)\n"
   ]
  },
  {
   "cell_type": "code",
   "execution_count": 157,
   "metadata": {},
   "outputs": [],
   "source": [
    "def hamming_loss(predictions, actual_values):\n",
    "    N = len(predictions)\n",
    "    L = 6\n",
    "\n",
    "    s = 0\n",
    "\n",
    "    for i in range(N):\n",
    "        for j in range(L):\n",
    "            s += predictions[i][j] ^ actual_values[i][j]\n",
    "    \n",
    "    return s / (N * L)"
   ]
  },
  {
   "cell_type": "code",
   "execution_count": 158,
   "metadata": {},
   "outputs": [],
   "source": [
    "possibilidades = [\n",
    "    [predicted_classes_plants_train, y_train_plants, 'dados de treino das plantas'],\n",
    "    [predicted_classes_plants_test, y_test_plants, 'dados de teste das plantas'],\n",
    "    [predicted_classes_virus_train, y_train_virus, 'dados de treino dos vírus'],\n",
    "    [predicted_classes_virus_test, y_test_virus, 'dados de teste dos vírus']\n",
    "]"
   ]
  },
  {
   "cell_type": "code",
   "execution_count": 159,
   "metadata": {},
   "outputs": [
    {
     "name": "stdout",
     "output_type": "stream",
     "text": [
      "A hamming loss nos dados de treino das plantas foi de 1.38%\n",
      "A hamming loss nos dados de teste das plantas foi de 2.85%\n",
      "A hamming loss nos dados de treino dos vírus foi de 3.05%\n",
      "A hamming loss nos dados de teste dos vírus foi de 6.10%\n"
     ]
    }
   ],
   "source": [
    "for possibilidade in possibilidades:\n",
    "    print(f'A hamming loss nos {possibilidade[-1]} foi de {100*hamming_loss(*possibilidade[:-1]):.2f}%')"
   ]
  }
 ],
 "metadata": {
  "kernelspec": {
   "display_name": "Python 3",
   "language": "python",
   "name": "python3"
  },
  "language_info": {
   "codemirror_mode": {
    "name": "ipython",
    "version": 3
   },
   "file_extension": ".py",
   "mimetype": "text/x-python",
   "name": "python",
   "nbconvert_exporter": "python",
   "pygments_lexer": "ipython3",
   "version": "3.8.10"
  }
 },
 "nbformat": 4,
 "nbformat_minor": 2
}
